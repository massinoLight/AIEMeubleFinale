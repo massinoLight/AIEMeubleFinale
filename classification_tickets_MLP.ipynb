{
  "nbformat": 4,
  "nbformat_minor": 0,
  "metadata": {
    "colab": {
      "name": "classification_tickets_MLP.ipynb",
      "provenance": [],
      "collapsed_sections": [],
      "include_colab_link": true
    },
    "kernelspec": {
      "name": "python3",
      "display_name": "Python 3"
    },
    "language_info": {
      "name": "python"
    }
  },
  "cells": [
    {
      "cell_type": "markdown",
      "metadata": {
        "id": "view-in-github",
        "colab_type": "text"
      },
      "source": [
        "<a href=\"https://colab.research.google.com/github/massinoLight/AIEMeubleFinale/blob/master/classification_tickets_MLP.ipynb\" target=\"_parent\"><img src=\"https://colab.research.google.com/assets/colab-badge.svg\" alt=\"Open In Colab\"/></a>"
      ]
    },
    {
      "cell_type": "code",
      "execution_count": 9,
      "metadata": {
        "id": "uWlciIV83Iuc"
      },
      "outputs": [],
      "source": [
        "import tensorflow as tf\n",
        "import pandas as pd\n",
        "from sklearn.model_selection import train_test_split\n",
        "from tensorflow import keras\n",
        "from tensorflow.keras import layers"
      ]
    },
    {
      "cell_type": "code",
      "source": [
        "LUPClosed= pd.read_csv('/content/sample_data/jeux_de_donnes_sans_vecteur.csv',index_col=0)"
      ],
      "metadata": {
        "id": "UMUAu--lWptQ"
      },
      "execution_count": 3,
      "outputs": []
    },
    {
      "cell_type": "code",
      "source": [
        "feature_cols = ['lbs_projet','lb_code_archi','lb_pilot_so_nom_prenom','lb_pilot_dept','lbs_direction_gf','lbs_criticite_qu']\n",
        "X = LUPClosed[feature_cols].to_numpy() # Features\n",
        "y = LUPClosed['class'].to_numpy() # Target variable"
      ],
      "metadata": {
        "id": "vaCgmsYTXCYo"
      },
      "execution_count": 4,
      "outputs": []
    },
    {
      "cell_type": "code",
      "source": [
        "LUPClosed= pd.read_csv('/content/sample_data/jeux_de_donnees.csv',index_col=0)"
      ],
      "metadata": {
        "id": "Uyga_yhO78GS"
      },
      "execution_count": 10,
      "outputs": []
    },
    {
      "cell_type": "code",
      "source": [
        "target=['class']\n",
        "feature_cols =LUPClosed.columns\n",
        "z = [item for item in feature_cols if item not in target]\n",
        "\n",
        "X = LUPClosed[z] # Features\n",
        "y = LUPClosed['class'] # Target variabletarget=['class']\n",
        "feature_cols =LUPClosed.columns\n",
        "z = [item for item in feature_cols if item not in target]\n",
        "\n",
        "X = LUPClosed[z].to_numpy() # Features\n",
        "y = LUPClosed['class'].to_numpy() # Target variable"
      ],
      "metadata": {
        "id": "ykhpxpbz8twk"
      },
      "execution_count": 11,
      "outputs": []
    },
    {
      "cell_type": "code",
      "source": [
        "optimizers=['sgd', 'adam', 'rmsprop'] # Tu peux essayer adam ou rmsprop, sgd est le plus basique mais marche bien avec les problèmes simples"
      ],
      "metadata": {
        "id": "QeoFyo-a5Gug"
      },
      "execution_count": 5,
      "outputs": []
    },
    {
      "cell_type": "code",
      "source": [
        "nb_features"
      ],
      "metadata": {
        "colab": {
          "base_uri": "https://localhost:8080/"
        },
        "id": "eSkGRPq23XJO",
        "outputId": "d7ad3fd9-3df8-4229-a615-72288b40da57"
      },
      "execution_count": 26,
      "outputs": [
        {
          "output_type": "execute_result",
          "data": {
            "text/plain": [
              "306"
            ]
          },
          "metadata": {},
          "execution_count": 26
        }
      ]
    },
    {
      "cell_type": "code",
      "source": [
        "X"
      ],
      "metadata": {
        "colab": {
          "base_uri": "https://localhost:8080/"
        },
        "id": "At6H7TEjwaHk",
        "outputId": "9d616e88-404d-4686-ffbf-c2796cbf9eb7"
      },
      "execution_count": 29,
      "outputs": [
        {
          "output_type": "execute_result",
          "data": {
            "text/plain": [
              "array([[ 3.40000000e+01,  0.00000000e+00,  4.94000000e+02, ...,\n",
              "         6.44749254e-01,  8.06782049e-01, -1.97688771e+00],\n",
              "       [ 3.40000000e+01,  0.00000000e+00,  4.94000000e+02, ...,\n",
              "         1.31420101e+00,  7.28355930e-01, -1.33550523e+00],\n",
              "       [ 3.40000000e+01,  0.00000000e+00,  4.94000000e+02, ...,\n",
              "         1.31420101e+00,  7.28355930e-01, -1.33550523e+00],\n",
              "       ...,\n",
              "       [ 2.20000000e+01,  5.00000000e+00,  3.37000000e+02, ...,\n",
              "        -2.27166910e+00,  4.20113257e-01, -7.50924669e-01],\n",
              "       [ 1.00000000e+00,  0.00000000e+00,  1.74000000e+02, ...,\n",
              "         3.44273475e-01, -5.73832157e-02,  1.57681724e+00],\n",
              "       [ 2.90000000e+01,  6.00000000e+00,  2.78000000e+02, ...,\n",
              "         1.53120350e+00,  2.66864225e-01, -1.26474003e+00]])"
            ]
          },
          "metadata": {},
          "execution_count": 29
        }
      ]
    },
    {
      "cell_type": "code",
      "source": [
        "y"
      ],
      "metadata": {
        "colab": {
          "base_uri": "https://localhost:8080/"
        },
        "id": "cvTjlC-Owda_",
        "outputId": "1a4e9f1e-0dd4-456d-a840-e8ac627dd3c3"
      },
      "execution_count": 30,
      "outputs": [
        {
          "output_type": "execute_result",
          "data": {
            "text/plain": [
              "array([1, 1, 1, ..., 2, 1, 3])"
            ]
          },
          "metadata": {},
          "execution_count": 30
        }
      ]
    },
    {
      "cell_type": "code",
      "source": [
        "X_train, X_test, y_train, y_test = train_test_split(X, y, test_size=0.3, random_state=1)"
      ],
      "metadata": {
        "id": "2BqVGfo2eLj_"
      },
      "execution_count": 31,
      "outputs": []
    },
    {
      "cell_type": "code",
      "source": [
        "x_val = X_train[-1000:]\n",
        "y_val = y_train[-1000:]"
      ],
      "metadata": {
        "id": "wqBcnhJZyop2"
      },
      "execution_count": 32,
      "outputs": []
    },
    {
      "cell_type": "code",
      "source": [
        "# Avec tf.one_hot, tu vas les transformer en vecteurs\n",
        "one_hot_labels = tf.one_hot(y_train,4)\n",
        "one_hot_labels"
      ],
      "metadata": {
        "colab": {
          "base_uri": "https://localhost:8080/"
        },
        "id": "EIk7v-sUCnTb",
        "outputId": "a86585d2-85c3-4db7-92af-41df22309620"
      },
      "execution_count": 33,
      "outputs": [
        {
          "output_type": "execute_result",
          "data": {
            "text/plain": [
              "<tf.Tensor: shape=(3703, 4), dtype=float32, numpy=\n",
              "array([[0., 0., 0., 1.],\n",
              "       [0., 1., 0., 0.],\n",
              "       [0., 0., 0., 1.],\n",
              "       ...,\n",
              "       [0., 0., 0., 1.],\n",
              "       [0., 0., 1., 0.],\n",
              "       [0., 0., 0., 1.]], dtype=float32)>"
            ]
          },
          "metadata": {},
          "execution_count": 33
        }
      ]
    },
    {
      "cell_type": "code",
      "source": [
        "one_hot_labels_val = tf.one_hot(y_val,4)\n",
        "one_hot_labels_val"
      ],
      "metadata": {
        "colab": {
          "base_uri": "https://localhost:8080/"
        },
        "id": "AUtFqefb4Bf8",
        "outputId": "a64f81a6-cf38-4779-bba6-8121f62a2a36"
      },
      "execution_count": 34,
      "outputs": [
        {
          "output_type": "execute_result",
          "data": {
            "text/plain": [
              "<tf.Tensor: shape=(1000, 4), dtype=float32, numpy=\n",
              "array([[0., 0., 0., 1.],\n",
              "       [0., 0., 1., 0.],\n",
              "       [0., 0., 0., 1.],\n",
              "       ...,\n",
              "       [0., 0., 0., 1.],\n",
              "       [0., 0., 1., 0.],\n",
              "       [0., 0., 0., 1.]], dtype=float32)>"
            ]
          },
          "metadata": {},
          "execution_count": 34
        }
      ]
    },
    {
      "cell_type": "code",
      "source": [
        "num_classes = 4\n",
        "\n",
        "model = tf.keras.Sequential([\n",
        "    layers.Dense(128,activation='relu'),\n",
        "    layers.Dense(64,activation='relu'),\n",
        "    layers.Dense(32,activation='relu'),\n",
        "    layers.Dense(16,activation='relu'),\n",
        "    layers.Dense(num_classes, activation='softmax')\n",
        "])\n",
        "model.compile(optimizer='adam', loss='categorical_crossentropy', metrics=['accuracy'])"
      ],
      "metadata": {
        "id": "cHFhjO2j5g08"
      },
      "execution_count": 39,
      "outputs": []
    },
    {
      "cell_type": "code",
      "source": [
        "history = model.fit(\n",
        "    X_train,\n",
        "    one_hot_labels,\n",
        "    batch_size=10,\n",
        "    epochs=100,\n",
        "    validation_data=(x_val, one_hot_labels_val),\n",
        "    callbacks=tf.keras.callbacks.EarlyStopping(monitor='loss', patience=3,min_delta=0)\n",
        ")\n"
      ],
      "metadata": {
        "id": "ArrXZn2yeAJ6",
        "colab": {
          "base_uri": "https://localhost:8080/"
        },
        "outputId": "cd6ad29c-9b9a-4cbb-9f37-d68124da19c0"
      },
      "execution_count": 40,
      "outputs": [
        {
          "output_type": "stream",
          "name": "stdout",
          "text": [
            "Epoch 1/100\n",
            "371/371 [==============================] - 2s 3ms/step - loss: 1.2563 - acc: 0.4750 - val_loss: 1.0248 - val_acc: 0.5730\n",
            "Epoch 2/100\n",
            "371/371 [==============================] - 1s 3ms/step - loss: 0.9187 - acc: 0.6338 - val_loss: 0.9107 - val_acc: 0.6200\n",
            "Epoch 3/100\n",
            "371/371 [==============================] - 1s 3ms/step - loss: 0.7506 - acc: 0.7146 - val_loss: 0.6338 - val_acc: 0.7530\n",
            "Epoch 4/100\n",
            "371/371 [==============================] - 1s 4ms/step - loss: 0.5984 - acc: 0.7742 - val_loss: 0.5071 - val_acc: 0.8070\n",
            "Epoch 5/100\n",
            "371/371 [==============================] - 1s 4ms/step - loss: 0.4912 - acc: 0.8110 - val_loss: 0.3833 - val_acc: 0.8720\n",
            "Epoch 6/100\n",
            "371/371 [==============================] - 1s 2ms/step - loss: 0.4084 - acc: 0.8517 - val_loss: 0.3163 - val_acc: 0.8820\n",
            "Epoch 7/100\n",
            "371/371 [==============================] - 1s 2ms/step - loss: 0.3276 - acc: 0.8841 - val_loss: 0.4246 - val_acc: 0.8510\n",
            "Epoch 8/100\n",
            "371/371 [==============================] - 1s 4ms/step - loss: 0.3365 - acc: 0.8750 - val_loss: 0.2169 - val_acc: 0.9260\n",
            "Epoch 9/100\n",
            "371/371 [==============================] - 1s 3ms/step - loss: 0.2573 - acc: 0.9031 - val_loss: 0.2129 - val_acc: 0.9350\n",
            "Epoch 10/100\n",
            "371/371 [==============================] - 1s 2ms/step - loss: 0.2289 - acc: 0.9179 - val_loss: 0.1224 - val_acc: 0.9550\n",
            "Epoch 11/100\n",
            "371/371 [==============================] - 1s 2ms/step - loss: 0.2094 - acc: 0.9255 - val_loss: 0.1122 - val_acc: 0.9660\n",
            "Epoch 12/100\n",
            "371/371 [==============================] - 1s 3ms/step - loss: 0.1469 - acc: 0.9452 - val_loss: 0.0819 - val_acc: 0.9700\n",
            "Epoch 13/100\n",
            "371/371 [==============================] - 1s 2ms/step - loss: 0.1227 - acc: 0.9571 - val_loss: 0.1363 - val_acc: 0.9490\n",
            "Epoch 14/100\n",
            "371/371 [==============================] - 1s 2ms/step - loss: 0.1201 - acc: 0.9590 - val_loss: 0.0897 - val_acc: 0.9660\n",
            "Epoch 15/100\n",
            "371/371 [==============================] - 1s 3ms/step - loss: 0.0989 - acc: 0.9630 - val_loss: 0.0643 - val_acc: 0.9770\n",
            "Epoch 16/100\n",
            "371/371 [==============================] - 1s 2ms/step - loss: 0.0781 - acc: 0.9735 - val_loss: 0.0564 - val_acc: 0.9840\n",
            "Epoch 17/100\n",
            "371/371 [==============================] - 1s 3ms/step - loss: 0.0935 - acc: 0.9684 - val_loss: 0.0958 - val_acc: 0.9680\n",
            "Epoch 18/100\n",
            "371/371 [==============================] - 1s 3ms/step - loss: 0.1085 - acc: 0.9627 - val_loss: 0.0616 - val_acc: 0.9780\n",
            "Epoch 19/100\n",
            "371/371 [==============================] - 1s 2ms/step - loss: 0.0536 - acc: 0.9824 - val_loss: 0.0617 - val_acc: 0.9840\n",
            "Epoch 20/100\n",
            "371/371 [==============================] - 1s 3ms/step - loss: 0.0678 - acc: 0.9806 - val_loss: 0.1459 - val_acc: 0.9460\n",
            "Epoch 21/100\n",
            "371/371 [==============================] - 1s 2ms/step - loss: 0.0508 - acc: 0.9795 - val_loss: 0.0330 - val_acc: 0.9930\n",
            "Epoch 22/100\n",
            "371/371 [==============================] - 1s 3ms/step - loss: 0.0902 - acc: 0.9725 - val_loss: 0.0285 - val_acc: 0.9910\n",
            "Epoch 23/100\n",
            "371/371 [==============================] - 1s 3ms/step - loss: 0.0594 - acc: 0.9806 - val_loss: 0.0242 - val_acc: 0.9950\n",
            "Epoch 24/100\n",
            "371/371 [==============================] - 1s 3ms/step - loss: 0.0183 - acc: 0.9959 - val_loss: 0.0169 - val_acc: 0.9940\n",
            "Epoch 25/100\n",
            "371/371 [==============================] - 1s 2ms/step - loss: 0.0463 - acc: 0.9843 - val_loss: 0.0217 - val_acc: 0.9940\n",
            "Epoch 26/100\n",
            "371/371 [==============================] - 1s 3ms/step - loss: 0.0551 - acc: 0.9808 - val_loss: 0.0660 - val_acc: 0.9860\n",
            "Epoch 27/100\n",
            "371/371 [==============================] - 1s 2ms/step - loss: 0.0728 - acc: 0.9795 - val_loss: 0.0184 - val_acc: 0.9950\n"
          ]
        }
      ]
    },
    {
      "cell_type": "code",
      "source": [
        "model.summary()"
      ],
      "metadata": {
        "colab": {
          "base_uri": "https://localhost:8080/"
        },
        "id": "TTqjkkjF7Z3c",
        "outputId": "99cc8225-8ef7-43d2-8ea7-ff0bc5f886f6"
      },
      "execution_count": 41,
      "outputs": [
        {
          "output_type": "stream",
          "name": "stdout",
          "text": [
            "Model: \"sequential_12\"\n",
            "_________________________________________________________________\n",
            " Layer (type)                Output Shape              Param #   \n",
            "=================================================================\n",
            " dense_36 (Dense)            (None, 128)               39296     \n",
            "                                                                 \n",
            " dense_37 (Dense)            (None, 64)                8256      \n",
            "                                                                 \n",
            " dense_38 (Dense)            (None, 32)                2080      \n",
            "                                                                 \n",
            " dense_39 (Dense)            (None, 16)                528       \n",
            "                                                                 \n",
            " dense_40 (Dense)            (None, 4)                 68        \n",
            "                                                                 \n",
            "=================================================================\n",
            "Total params: 50,228\n",
            "Trainable params: 50,228\n",
            "Non-trainable params: 0\n",
            "_________________________________________________________________\n"
          ]
        }
      ]
    }
  ]
}